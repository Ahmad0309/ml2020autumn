{
 "cells": [
  {
   "cell_type": "code",
   "execution_count": 1,
   "metadata": {},
   "outputs": [],
   "source": [
    "from sklearn.datasets import load_breast_cancer\n",
    "from sklearn.model_selection import train_test_split"
   ]
  },
  {
   "cell_type": "code",
   "execution_count": 2,
   "metadata": {},
   "outputs": [],
   "source": [
    "X, y = load_breast_cancer(return_X_y=True)"
   ]
  },
  {
   "cell_type": "code",
   "execution_count": 3,
   "metadata": {},
   "outputs": [
    {
     "name": "stdout",
     "output_type": "stream",
     "text": [
      "(455, 30) (455,) (114, 30) (114,)\n"
     ]
    }
   ],
   "source": [
    "trainX, testX, trainY, testY = train_test_split(X, y, random_state=42, test_size=0.2)\n",
    "print(trainX.shape, trainY.shape, testX.shape, testY.shape)"
   ]
  },
  {
   "cell_type": "code",
   "execution_count": 4,
   "metadata": {},
   "outputs": [
    {
     "name": "stdout",
     "output_type": "stream",
     "text": [
      "[1 0 0 1 1 0 0 0 1 1 1 0 1 0 1 0 1 1 1 0 0 1 0 1 1 1 1 1 1 0 1 1 1 1 1 1 0\n",
      " 1 0 1 1 0 1 1 1 1 1 1 1 1 0 0 1 1 1 1 1 0 0 1 1 0 0 1 1 1 0 0 1 1 0 0 1 0\n",
      " 1 1 1 0 1 1 0 1 0 0 0 0 0 0 1 1 1 1 1 1 1 1 0 0 1 0 0 1 0 0 1 1 1 0 1 1 0\n",
      " 1 1 0]\n"
     ]
    }
   ],
   "source": [
    "print(testY)"
   ]
  },
  {
   "cell_type": "markdown",
   "metadata": {},
   "source": [
    "## Linear SVM"
   ]
  },
  {
   "cell_type": "code",
   "execution_count": 5,
   "metadata": {},
   "outputs": [
    {
     "name": "stdout",
     "output_type": "stream",
     "text": [
      "[1 0 0 1 1 0 0 0 1 1 1 0 1 0 1 0 1 1 1 0 1 1 0 1 1 1 1 1 1 0 1 1 1 1 1 1 0\n",
      " 1 0 1 1 0 1 1 1 1 1 1 1 1 0 0 1 1 1 1 1 0 1 1 1 0 0 1 1 1 0 0 1 1 0 0 1 0\n",
      " 1 1 1 0 1 1 0 1 1 0 0 0 0 0 1 1 1 1 1 1 1 1 0 0 1 0 0 1 0 0 1 1 1 0 1 1 0\n",
      " 1 1 0]\n"
     ]
    },
    {
     "name": "stderr",
     "output_type": "stream",
     "text": [
      "d:\\4install\\python38\\lib\\site-packages\\sklearn\\svm\\_base.py:946: ConvergenceWarning: Liblinear failed to converge, increase the number of iterations.\n",
      "  warnings.warn(\"Liblinear failed to converge, increase \"\n"
     ]
    }
   ],
   "source": [
    "from sklearn.svm import LinearSVC\n",
    "clf = LinearSVC(random_state=42).fit(trainX, trainY)\n",
    "out_y = clf.predict(testX)\n",
    "print(out_y)"
   ]
  },
  {
   "cell_type": "markdown",
   "metadata": {},
   "source": [
    "Можно посмотреть сами значения, по которым принимается решение (берется sign)"
   ]
  },
  {
   "cell_type": "code",
   "execution_count": 6,
   "metadata": {},
   "outputs": [
    {
     "name": "stdout",
     "output_type": "stream",
     "text": [
      "[ 2.20199112e-01 -5.44510530e+00 -1.73157739e+00  1.49225345e+00\n",
      "  1.50778111e+00 -4.45103422e+00 -6.60160981e+00 -1.25862018e+00\n",
      "  1.21355320e+00  7.24990425e-01  6.87224990e-01 -2.07217882e+00\n",
      "  7.33334540e-01 -2.23510745e-02  1.15716280e+00 -1.07365078e+00\n",
      "  9.78838924e-01  1.57447553e+00  1.20869101e+00 -3.81991213e+00\n",
      "  7.33938400e-02  8.33705618e-01 -5.18889756e+00  1.09894922e+00\n",
      "  1.07728268e+00  1.55722177e+00  1.22010492e+00  1.26935574e+00\n",
      "  1.08007327e+00 -4.78833904e+00  1.24956233e+00  1.23668952e+00\n",
      "  8.07542797e-01  3.36972989e-01  1.34689079e+00  1.01910645e+00\n",
      " -1.74532673e+00  8.15770623e-01 -3.63918828e+00  3.07762569e-01\n",
      "  1.26803363e+00 -1.61634944e+00  1.48790844e+00  8.63000555e-01\n",
      "  1.34715674e+00  6.98331207e-01  1.36932245e+00  8.68244575e-01\n",
      "  6.67476420e-01  1.19805877e+00 -2.95984082e+00 -4.39831710e+00\n",
      "  8.90577911e-01  1.22829535e+00  1.42915174e+00  5.77103419e-01\n",
      "  1.35803743e+00 -7.21427259e+00  3.19841081e-01  1.50978914e+00\n",
      "  8.60457229e-01 -3.73456429e+00 -5.61917736e+00  6.49938935e-01\n",
      "  9.85511298e-01  6.00183857e-01 -2.42744234e+00 -2.88371557e+00\n",
      "  1.21617780e+00  8.92120431e-01 -5.47819830e-01 -2.77893059e+00\n",
      "  9.70652044e-01 -7.98222739e-03  7.77789417e-01  1.15871719e+00\n",
      "  5.60457509e-01 -4.53157762e-02  1.11705339e+00  1.16656180e+00\n",
      " -1.70953612e+00  9.65585886e-01  5.22795740e-02 -5.52598612e+00\n",
      " -2.04305704e+00 -1.83803066e-01 -2.74615709e-01 -2.98692920e+00\n",
      "  1.40680633e+00  1.04058415e+00  7.55748960e-01  4.85157259e-01\n",
      "  3.85483075e-01  9.29087785e-01  1.33786794e+00  1.15789809e+00\n",
      " -4.21250977e+00 -3.13712366e+00  1.50726216e+00 -2.15123650e+00\n",
      " -2.69337690e+00  1.57901195e+00 -4.09042421e+00 -1.83004380e+00\n",
      "  3.12436186e-01  5.30246840e-01  1.01079741e+00 -1.03348170e+01\n",
      "  6.83085045e-01  1.99726044e-01 -2.25159435e+00  1.17973819e+00\n",
      "  6.33285309e-02 -1.64808673e+01]\n",
      "[ True  True  True  True  True  True  True  True  True  True  True  True\n",
      "  True  True  True  True  True  True  True  True  True  True  True  True\n",
      "  True  True  True  True  True  True  True  True  True  True  True  True\n",
      "  True  True  True  True  True  True  True  True  True  True  True  True\n",
      "  True  True  True  True  True  True  True  True  True  True  True  True\n",
      "  True  True  True  True  True  True  True  True  True  True  True  True\n",
      "  True  True  True  True  True  True  True  True  True  True  True  True\n",
      "  True  True  True  True  True  True  True  True  True  True  True  True\n",
      "  True  True  True  True  True  True  True  True  True  True  True  True\n",
      "  True  True  True  True  True  True]\n"
     ]
    }
   ],
   "source": [
    "import numpy as np\n",
    "scores = clf.decision_function(testX)\n",
    "print(scores)\n",
    "print((scores > 0).astype(np.int32) == out_y)"
   ]
  },
  {
   "cell_type": "markdown",
   "metadata": {},
   "source": [
    "Можно распечатать коэффициенты линейного классификатора и его свободный член"
   ]
  },
  {
   "cell_type": "code",
   "execution_count": 7,
   "metadata": {},
   "outputs": [
    {
     "name": "stdout",
     "output_type": "stream",
     "text": [
      "w = [[ 3.44219635e-02  1.97115581e-02  7.60371027e-02 -3.05689926e-04\n",
      "  -6.26954948e-04 -4.19723263e-03 -5.65616788e-03 -2.30431018e-03\n",
      "  -8.79923368e-04 -1.66863334e-04  1.02096647e-03  6.07567357e-03\n",
      "  -6.41262013e-03 -9.26186533e-03 -2.73042960e-05 -1.03176324e-03\n",
      "  -1.25630983e-03 -3.28926706e-04 -2.17206220e-04 -7.95815239e-05\n",
      "   3.54477532e-02 -3.89806144e-02 -1.69124137e-02 -6.26179179e-03\n",
      "  -1.24404136e-03 -1.48878565e-02 -1.74079894e-02 -4.90243188e-03\n",
      "  -3.62887290e-03 -1.20270732e-03]]\n",
      "w0 = [0.00608061]\n"
     ]
    }
   ],
   "source": [
    "print('w =', clf.coef_)\n",
    "print('w0 =', clf.intercept_)"
   ]
  },
  {
   "cell_type": "code",
   "execution_count": 8,
   "metadata": {},
   "outputs": [
    {
     "name": "stdout",
     "output_type": "stream",
     "text": [
      "Linear score: 0.9736842105263158\n"
     ]
    }
   ],
   "source": [
    "out_score = clf.score(testX, testY)\n",
    "print('Linear score:', out_score)"
   ]
  },
  {
   "cell_type": "markdown",
   "metadata": {},
   "source": [
    "## Kernel SVM"
   ]
  },
  {
   "cell_type": "code",
   "execution_count": 9,
   "metadata": {},
   "outputs": [
    {
     "name": "stdout",
     "output_type": "stream",
     "text": [
      "[1 0 0 1 1 0 0 0 1 1 1 0 1 0 1 0 1 1 1 0 1 1 0 1 1 1 1 1 1 0 1 1 1 1 1 1 0\n",
      " 1 0 1 1 0 1 1 1 1 1 1 1 1 0 0 1 1 1 1 1 0 1 1 1 0 0 1 1 1 0 0 1 1 1 0 1 0\n",
      " 1 1 1 1 1 1 0 1 1 0 0 0 1 0 1 1 1 1 1 1 1 1 0 0 1 0 0 1 0 0 1 1 1 0 1 1 0\n",
      " 1 1 0]\n"
     ]
    }
   ],
   "source": [
    "from sklearn.svm import SVC\n",
    "clf = SVC(random_state=42, C=1.0, kernel='poly', degree=3, gamma='scale').fit(trainX, trainY)\n",
    "out_y = clf.predict(testX)\n",
    "print(out_y)"
   ]
  },
  {
   "cell_type": "markdown",
   "metadata": {},
   "source": [
    "Можно посмотреть количество опорных векторов для каждого класса, их индексы, а также сами опорные вектора"
   ]
  },
  {
   "cell_type": "code",
   "execution_count": 10,
   "metadata": {},
   "outputs": [
    {
     "name": "stdout",
     "output_type": "stream",
     "text": [
      "[60 60]\n",
      "[  5  17  21  25  30  34  36  50  55  71  95 100 106 120 121 130 134 141\n",
      " 145 147 155 162 183 193 197 202 236 283 285 286 306 309 310 312 323 324\n",
      " 327 329 332 335 352 353 354 357 360 362 364 365 391 394 397 398 403 409\n",
      " 413 435 441 445 446 453   6  18  20  24  35  39  44  53  57  59  61  63\n",
      "  65  66  72  73  82  86 107 117 124 129 133 136 144 149 160 171 180 203\n",
      " 204 207 223 229 230 239 241 247 262 269 272 281 282 284 290 299 305 334\n",
      " 355 358 380 382 395 405 415 419 422 436 437 439]\n",
      "[[1.454e+01 2.754e+01 9.673e+01 ... 1.712e-01 4.218e-01 1.341e-01]\n",
      " [1.522e+01 3.062e+01 1.034e+02 ... 2.356e-01 4.089e-01 1.409e-01]\n",
      " [1.534e+01 1.426e+01 1.025e+02 ... 2.393e-01 4.667e-01 9.946e-02]\n",
      " ...\n",
      " [1.499e+01 2.211e+01 9.753e+01 ... 1.308e-01 3.163e-01 9.251e-02]\n",
      " [1.785e+01 1.323e+01 1.146e+02 ... 8.341e-02 1.783e-01 5.871e-02]\n",
      " [1.350e+01 1.271e+01 8.569e+01 ... 2.210e-02 2.267e-01 6.192e-02]]\n"
     ]
    }
   ],
   "source": [
    "print(clf.n_support_)\n",
    "print(clf.support_)\n",
    "print(clf.support_vectors_)"
   ]
  },
  {
   "cell_type": "code",
   "execution_count": 11,
   "metadata": {},
   "outputs": [
    {
     "name": "stdout",
     "output_type": "stream",
     "text": [
      "train vector == support vector:  True\n"
     ]
    }
   ],
   "source": [
    "i = 0\n",
    "idx = clf.support_[i]\n",
    "import numpy as np\n",
    "print('train vector == support vector: ', np.all(trainX[idx] == clf.support_vectors_[i]))"
   ]
  },
  {
   "cell_type": "code",
   "execution_count": 12,
   "metadata": {},
   "outputs": [
    {
     "name": "stdout",
     "output_type": "stream",
     "text": [
      "Poly score: 0.9473684210526315\n"
     ]
    }
   ],
   "source": [
    "out_score = clf.score(testX, testY)\n",
    "print('Poly score:', out_score)"
   ]
  },
  {
   "cell_type": "markdown",
   "metadata": {},
   "source": [
    "## См. также"
   ]
  },
  {
   "cell_type": "markdown",
   "metadata": {},
   "source": [
    "* **LibSVM** - https://www.csie.ntu.edu.tw/~cjlin/libsvm/ - с++/Java реализация SVM общего вида со множеством интерфейсов в сторонних ЯП\n",
    "* **LibLinear** - https://www.csie.ntu.edu.tw/~cjlin/liblinear/ - версия LibSVM исключительно для линейного ядра (работает в этом случае гораздо быстрее)"
   ]
  },
  {
   "cell_type": "markdown",
   "metadata": {},
   "source": [
    "**Задача**: Чему равно $k$ для спрямляющего мономиального отображения степени не больше $m$: $\\varphi: \\mathbb{R}^n\\rightarrow\\mathbb{R}^k$\n",
    "\n",
    "**Дедлайн**: 12.11.2020 23:59\n",
    "\n",
    "Высылать на почту **mlcoursemm@gmail.com** с темой письма [ML2020A_Seminar06]"
   ]
  },
  {
   "cell_type": "code",
   "execution_count": null,
   "metadata": {},
   "outputs": [],
   "source": []
  }
 ],
 "metadata": {
  "kernelspec": {
   "display_name": "Python 3",
   "language": "python",
   "name": "python3"
  },
  "language_info": {
   "codemirror_mode": {
    "name": "ipython",
    "version": 3
   },
   "file_extension": ".py",
   "mimetype": "text/x-python",
   "name": "python",
   "nbconvert_exporter": "python",
   "pygments_lexer": "ipython3",
   "version": "3.8.1"
  }
 },
 "nbformat": 4,
 "nbformat_minor": 2
}
