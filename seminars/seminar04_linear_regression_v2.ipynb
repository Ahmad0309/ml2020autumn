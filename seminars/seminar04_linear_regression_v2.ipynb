{
 "cells": [
  {
   "cell_type": "code",
   "execution_count": 1,
   "metadata": {},
   "outputs": [],
   "source": [
    "import numpy as np\n",
    "np.random.seed(12345)\n",
    "from sklearn.metrics import mean_squared_error"
   ]
  },
  {
   "cell_type": "code",
   "execution_count": 2,
   "metadata": {},
   "outputs": [],
   "source": [
    "def get_w_and_b():\n",
    "    noisy_features = 5\n",
    "    w = np.arange(-10, 5)\n",
    "    w[:noisy_features] = 0\n",
    "    b = 1.0\n",
    "    return w, b\n",
    "\n",
    "def generate_dataset(l, sigma, w, b, noisy_objects=5):\n",
    "    n = len(w)\n",
    "    noise = np.random.normal(loc=0.0, scale=sigma, size=l)\n",
    "    trainX = np.random.random(size=(l, n))\n",
    "    trainY = np.matmul(trainX[:, :n], w) + b + noise\n",
    "    trainY[:noisy_objects] += 10*np.random.normal(loc=np.mean(trainY), scale=np.std(trainY), \n",
    "                                              size=noisy_objects)\n",
    "    \n",
    "    noise = np.random.normal(loc=0.0, scale=sigma, size=l)\n",
    "    testX = np.random.random(size=(l, n))\n",
    "    testY = np.matmul(testX, w) + b + noise\n",
    "\n",
    "    #print(trainX.shape, noise.shape)\n",
    "    return trainX, trainY, testX, testY"
   ]
  },
  {
   "cell_type": "code",
   "execution_count": 3,
   "metadata": {},
   "outputs": [],
   "source": [
    "n=10\n",
    "l=400\n",
    "sigma=0.1\n",
    "w, b = get_w_and_b()\n",
    "trainX, trainY, testX, testY = generate_dataset(l, sigma,w, b)"
   ]
  },
  {
   "cell_type": "markdown",
   "metadata": {},
   "source": [
    "#### Линейная регрессия"
   ]
  },
  {
   "cell_type": "code",
   "execution_count": 5,
   "metadata": {},
   "outputs": [
    {
     "name": "stdout",
     "output_type": "stream",
     "text": [
      "0.05887651348801793 0.2016092535059465\n"
     ]
    }
   ],
   "source": [
    "from sklearn.linear_model import LinearRegression, Ridge, Lasso, ElasticNet\n",
    "\n",
    "lr = LinearRegression()\n",
    "lr.fit(trainX, trainY)\n",
    "pred = lr.predict(testX)\n",
    "\n",
    "mse = mean_squared_error(pred, testY)\n",
    "print(mse, np.sqrt(mean_squared_error(lr.coef_, w)))\n"
   ]
  },
  {
   "cell_type": "code",
   "execution_count": 6,
   "metadata": {},
   "outputs": [
    {
     "name": "stdout",
     "output_type": "stream",
     "text": [
      "[ 0.05985201  0.11877347  0.09012595  0.06230633  0.42222426 -4.91702922\n",
      " -4.20852861 -3.04137382 -2.17980053 -0.8129077   0.46477894  1.01801319\n",
      "  2.21886181  2.99640363  4.13437868] [ 0  0  0  0  0 -5 -4 -3 -2 -1  0  1  2  3  4]\n"
     ]
    }
   ],
   "source": [
    "print(lr.coef_, w)"
   ]
  },
  {
   "cell_type": "code",
   "execution_count": 7,
   "metadata": {},
   "outputs": [
    {
     "data": {
      "text/plain": [
       "0.26834103479362525"
      ]
     },
     "execution_count": 7,
     "metadata": {},
     "output_type": "execute_result"
    }
   ],
   "source": [
    "lr.intercept_"
   ]
  },
  {
   "cell_type": "markdown",
   "metadata": {},
   "source": [
    "Адекватная ли получилась модель? Чтобы это понять, часто бывает полезно запустить константную модель на ваших данных"
   ]
  },
  {
   "cell_type": "markdown",
   "metadata": {},
   "source": [
    "#### Константная модель"
   ]
  },
  {
   "cell_type": "code",
   "execution_count": 8,
   "metadata": {},
   "outputs": [
    {
     "name": "stdout",
     "output_type": "stream",
     "text": [
      "6.9830880833222295\n"
     ]
    }
   ],
   "source": [
    "from sklearn.dummy import DummyRegressor\n",
    "lr = DummyRegressor()\n",
    "lr.fit(trainX, trainY)\n",
    "pred = lr.predict(testX)\n",
    "\n",
    "mse = mean_squared_error(pred, testY)\n",
    "print(mse)"
   ]
  },
  {
   "cell_type": "markdown",
   "metadata": {},
   "source": [
    "#### Поможет ли регуляризация улучшить результат линейной регрессии?"
   ]
  },
  {
   "cell_type": "code",
   "execution_count": 9,
   "metadata": {},
   "outputs": [
    {
     "name": "stdout",
     "output_type": "stream",
     "text": [
      "ridge 0.05215147317665575 0.19029431706186298\n",
      "Lasso 6.9830880833222295 2.3804761428476167\n",
      "ElasticNet 6.9830880833222295 2.3804761428476167\n"
     ]
    }
   ],
   "source": [
    "from sklearn.linear_model import LinearRegression, Ridge, Lasso, ElasticNet\n",
    "\n",
    "lr = Ridge()\n",
    "lr.fit(trainX, trainY)\n",
    "pred = lr.predict(testX)\n",
    "\n",
    "mse = mean_squared_error(pred, testY)\n",
    "print('ridge', mse, np.sqrt(mean_squared_error(lr.coef_, w)))\n",
    "\n",
    "lr = Lasso()\n",
    "lr.fit(trainX, trainY)\n",
    "pred = lr.predict(testX)\n",
    "\n",
    "mse = mean_squared_error(pred, testY)\n",
    "print('Lasso', mse, np.sqrt(mean_squared_error(lr.coef_, w)))\n",
    "\n",
    "lr = ElasticNet()\n",
    "lr.fit(trainX, trainY)\n",
    "pred = lr.predict(testX)\n",
    "\n",
    "mse = mean_squared_error(pred, testY)\n",
    "print('ElasticNet', mse, np.sqrt(mean_squared_error(lr.coef_, w)))"
   ]
  },
  {
   "cell_type": "markdown",
   "metadata": {},
   "source": [
    "#### Подберите лучшие параметры для гребневой регрессии"
   ]
  },
  {
   "cell_type": "code",
   "execution_count": 13,
   "metadata": {},
   "outputs": [
    {
     "name": "stdout",
     "output_type": "stream",
     "text": [
      "ridge 0.0001 0.05887493614288579 0.20160633014932886\n",
      "[ 0.05984959  0.11877298  0.09012805  0.06230652  0.42222127 -4.91701062\n",
      " -4.20851653 -3.04136243 -2.17979257 -0.81290688  0.46477525  1.01800968\n",
      "  2.21885668  2.99639178  4.13436388]\n",
      "ridge 0.001 0.05886074877933803 0.20158003566081334\n",
      "[ 0.05982773  0.11876856  0.09014695  0.06230824  0.42219431 -4.91684325\n",
      " -4.20840782 -3.04125984 -2.17972095 -0.81289957  0.46474205  1.01797806\n",
      "  2.21881043  2.99628513  4.13423075]\n",
      "ridge 0.01 0.05871974003866422 0.20131864813977418\n",
      "[ 0.05960933  0.11872445  0.09033576  0.0623254   0.42192496 -4.9151702\n",
      " -4.20732102 -3.04023434 -2.179005   -0.81282638  0.46441021  1.01766195\n",
      "  2.21834801  2.99521906  4.13289987]\n",
      "ridge 0.1 0.057395519522081634 0.1988614414728182\n",
      "[ 0.05744109  0.11828366  0.09220963  0.06249569  0.41924695 -4.89850642\n",
      " -4.19648125 -3.03001794 -2.17187197 -0.8120916   0.46110957  1.01451132\n",
      "  2.21373226  2.98460115  4.11963943]\n",
      "ridge 1.0 0.05215147317665575 0.19029431706186298\n",
      "[ 0.03724372  0.1139143   0.1095983   0.06407035  0.39393969 -4.73826527\n",
      " -4.09084414 -2.93156352 -2.10309323 -0.80447937  0.42979549  0.98401997\n",
      "  2.16841685  2.88252879  3.9916927 ]\n",
      "ridge 10.0 0.4318679856657303 0.5939153318336629\n",
      "[-0.07244049  0.07710457  0.19908126  0.07097648  0.23594682 -3.58658083\n",
      " -3.25825785 -2.21473853 -1.59951546 -0.71825257  0.23022129  0.75526111\n",
      "  1.79139885  2.15262294  3.0509504 ]\n",
      "ridge 100.0 4.097851516655484 1.8271370622355256\n",
      "[-0.08859823  0.00223936  0.14516753  0.04050644  0.03345779 -1.07746241\n",
      " -1.05557197 -0.64527896 -0.47225773 -0.29769057 -0.00308274  0.22248909\n",
      "  0.63739799  0.62022013  0.91904458]\n"
     ]
    }
   ],
   "source": [
    "from sklearn.linear_model import LinearRegression, Ridge, Lasso, ElasticNet\n",
    "#ваш код\n",
    "for alpha in [0.0001, 0.001, 0.01, 0.1, 1.0, 10.0, 100.0]:\n",
    "    lr = Ridge(alpha=alpha)\n",
    "    lr.fit(trainX, trainY)\n",
    "    pred = lr.predict(testX)\n",
    "\n",
    "    mse = mean_squared_error(pred, testY)\n",
    "    print('ridge', alpha, mse, np.sqrt(mean_squared_error(lr.coef_, w)))\n",
    "    print(lr.coef_)"
   ]
  },
  {
   "cell_type": "markdown",
   "metadata": {},
   "source": [
    "#### Подберите лучшие параметры для Lasso"
   ]
  },
  {
   "cell_type": "code",
   "execution_count": 14,
   "metadata": {},
   "outputs": [
    {
     "name": "stdout",
     "output_type": "stream",
     "text": [
      "Lasso 0.0001 0.0584948427635096 0.2007703480889849\n",
      "[ 0.05822129  0.11752396  0.08876795  0.06107632  0.42061111 -4.91529492\n",
      " -4.20745367 -3.04007169 -2.17844221 -0.81196465  0.46311187  1.01657073\n",
      "  2.21784555  2.99477219  4.13288256]\n",
      "Lasso 0.001 0.05526367492041001 0.19352023488548664\n",
      "[ 0.04371888  0.10620322  0.07647029  0.05004869  0.40615182 -4.89977367\n",
      " -4.19775645 -3.02836381 -2.16622553 -0.80348685  0.44813283  1.00360156\n",
      "  2.20867921  2.98010201  4.11943261]\n",
      "Lasso 0.01 0.040448727530836635 0.15909860125649847\n",
      "[ 0.          0.          0.          0.          0.27345927 -4.7565161\n",
      " -4.09207468 -2.90903198 -2.04256287 -0.71634418  0.30241231  0.88040858\n",
      "  2.10936766  2.83014501  3.99464973]\n",
      "Lasso 0.1 1.0712174940394668 0.937804590532118\n",
      "[-0.          0.          0.          0.          0.         -3.40696554\n",
      " -2.95956149 -1.67446929 -0.78639592 -0.          0.          0.\n",
      "  1.16923891  1.47616828  2.84683173]\n",
      "Lasso 1.0 6.9830880833222295 2.3804761428476167\n",
      "[-0. -0.  0.  0.  0. -0. -0. -0. -0. -0. -0.  0.  0.  0.  0.]\n",
      "Lasso 10.0 6.9830880833222295 2.3804761428476167\n",
      "[-0. -0.  0.  0.  0. -0. -0. -0. -0. -0. -0.  0.  0.  0.  0.]\n",
      "Lasso 100.0 6.9830880833222295 2.3804761428476167\n",
      "[-0. -0.  0.  0.  0. -0. -0. -0. -0. -0. -0.  0.  0.  0.  0.]\n"
     ]
    }
   ],
   "source": [
    "from sklearn.linear_model import LinearRegression, Ridge, Lasso, ElasticNet\n",
    "#ваш код\n",
    "for alpha in [0.0001, 0.001, 0.01, 0.1, 1.0, 10.0, 100.0]:\n",
    "    lr = Lasso(alpha=alpha)\n",
    "    lr.fit(trainX, trainY)\n",
    "    pred = lr.predict(testX)\n",
    "\n",
    "    mse = mean_squared_error(pred, testY)\n",
    "    print('Lasso', alpha, mse, np.sqrt(mean_squared_error(lr.coef_, w)))\n",
    "    print(lr.coef_)"
   ]
  },
  {
   "cell_type": "markdown",
   "metadata": {},
   "source": [
    "#### Подберите лучшие параметры для ElasticNet"
   ]
  },
  {
   "cell_type": "code",
   "execution_count": null,
   "metadata": {},
   "outputs": [],
   "source": [
    "from sklearn.linear_model import LinearRegression, Ridge, Lasso, ElasticNet\n",
    "#ваш код"
   ]
  },
  {
   "cell_type": "markdown",
   "metadata": {},
   "source": [
    "#### Для каких моделей и для каких параметров произошел отбор признаков?"
   ]
  },
  {
   "cell_type": "code",
   "execution_count": null,
   "metadata": {},
   "outputs": [],
   "source": [
    "Ответ:"
   ]
  },
  {
   "cell_type": "markdown",
   "metadata": {},
   "source": [
    "#### Можно ли улучшить результат препроцессингом данных?"
   ]
  },
  {
   "cell_type": "code",
   "execution_count": null,
   "metadata": {},
   "outputs": [],
   "source": [
    "#ваш код"
   ]
  },
  {
   "cell_type": "markdown",
   "metadata": {},
   "source": [
    "Выводы:"
   ]
  },
  {
   "cell_type": "markdown",
   "metadata": {},
   "source": [
    "#### Как регуляризация влияет на разброс и смещение?"
   ]
  },
  {
   "cell_type": "code",
   "execution_count": null,
   "metadata": {},
   "outputs": [],
   "source": [
    "#ваш код"
   ]
  },
  {
   "cell_type": "markdown",
   "metadata": {},
   "source": [
    "Выводы:"
   ]
  },
  {
   "cell_type": "markdown",
   "metadata": {},
   "source": [
    "#### Дедлайн: до 23:59:59 31 октября\n",
    "#### На почту mlcoursemm@gmail.com с темой письма ML2020Seminar04"
   ]
  },
  {
   "cell_type": "code",
   "execution_count": null,
   "metadata": {},
   "outputs": [],
   "source": []
  }
 ],
 "metadata": {
  "kernelspec": {
   "display_name": "Python 3",
   "language": "python",
   "name": "python3"
  },
  "language_info": {
   "codemirror_mode": {
    "name": "ipython",
    "version": 3
   },
   "file_extension": ".py",
   "mimetype": "text/x-python",
   "name": "python",
   "nbconvert_exporter": "python",
   "pygments_lexer": "ipython3",
   "version": "3.7.3"
  }
 },
 "nbformat": 4,
 "nbformat_minor": 2
}
