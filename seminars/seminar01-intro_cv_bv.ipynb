{
 "cells": [
  {
   "cell_type": "markdown",
   "metadata": {},
   "source": [
    "### Курс \"Машинное обучение\", осень 2020\n",
    "\n",
    "### Занятие 1, кросс-валидация и дилемма смещения-разброса"
   ]
  },
  {
   "cell_type": "markdown",
   "metadata": {},
   "source": [
    "# Сравнение случайного поиска и поиска по сетке для поиска лучшего набора гиперпараметров\n",
    "\n",
    "## Вспомогательные функции"
   ]
  },
  {
   "cell_type": "markdown",
   "metadata": {},
   "source": [
    "### Разбиение базы на обучающую и тестовую"
   ]
  },
  {
   "cell_type": "code",
   "execution_count": 1,
   "metadata": {},
   "outputs": [
    {
     "name": "stdout",
     "output_type": "stream",
     "text": [
      "(150, 4) (150,)\n",
      "(90, 4) (90,) (60, 4) (60,)\n"
     ]
    }
   ],
   "source": [
    "import numpy as np\n",
    "from sklearn.model_selection import train_test_split\n",
    "from sklearn import datasets\n",
    "\n",
    "X, y = datasets.load_iris(return_X_y=True)\n",
    "X_train, X_test, y_train, y_test = train_test_split(X, y, test_size=0.4, random_state=0) \n",
    "print(X.shape, y.shape)\n",
    "print(X_train.shape, y_train.shape, X_test.shape, y_test.shape)"
   ]
  },
  {
   "cell_type": "markdown",
   "metadata": {},
   "source": [
    "### Посмотрим на качество работы на k блоках в k-fold кросс-валидации"
   ]
  },
  {
   "cell_type": "code",
   "execution_count": 2,
   "metadata": {},
   "outputs": [
    {
     "name": "stdout",
     "output_type": "stream",
     "text": [
      "[1.         1.         1.         1.         0.94444444]\n"
     ]
    }
   ],
   "source": [
    "from sklearn import svm\n",
    "from sklearn.model_selection import cross_val_score\n",
    "\n",
    "clf = svm.SVC(kernel='linear', C=1)\n",
    "score = cross_val_score(clf, X_train, y_train, cv=5) \n",
    "print(score)"
   ]
  },
  {
   "cell_type": "markdown",
   "metadata": {},
   "source": [
    "### Также можно посмотреть на результат классификации на каждом пример\n",
    "\n",
    "Обратите внимание, что каждый пример входит ровно в один тестовый под-блок (и вот на нем и выводятся результаты)"
   ]
  },
  {
   "cell_type": "code",
   "execution_count": 3,
   "metadata": {},
   "outputs": [
    {
     "name": "stdout",
     "output_type": "stream",
     "text": [
      "[1 0 2 1 1 1 1 2 0 0 2 1 0 0 1 0 2 1 0 1 2 1 0 2 2 2 2 0 0 2 2 0 2 0 2 2 0\n",
      " 0 2 0 0 0 1 2 2 0 0 0 1 1 0 0 1 0 2 1 2 1 0 2 0 2 0 0 2 0 2 1 1 1 2 2 1 1\n",
      " 0 1 2 2 0 1 1 2 1 0 0 0 2 1 2 0]\n",
      "0.9888888888888889\n",
      "(90,)\n"
     ]
    }
   ],
   "source": [
    "from sklearn.model_selection import cross_val_predict\n",
    "\n",
    "clf = svm.SVC(kernel='linear', C=1)\n",
    "classes_pred = cross_val_predict(clf, X_train, y_train, cv=5) \n",
    "print(classes_pred)\n",
    "print(np.sum(classes_pred == y_train) / y_train.shape[0])\n",
    "print(classes_pred.shape)"
   ]
  },
  {
   "cell_type": "markdown",
   "metadata": {},
   "source": [
    "### Генератор (на самом деле, итератор) разбиений для k-fold кросс-валидации"
   ]
  },
  {
   "cell_type": "code",
   "execution_count": 4,
   "metadata": {},
   "outputs": [
    {
     "name": "stdout",
     "output_type": "stream",
     "text": [
      "[2 3] [0 1]\n",
      "[0 1] [2 3]\n"
     ]
    }
   ],
   "source": [
    "from sklearn.model_selection import KFold\n",
    "\n",
    "X1 = [\"a\", \"b\", \"c\", \"d\"]\n",
    "kf = KFold(n_splits=2)\n",
    "for train, test in kf.split(X1):\n",
    "    print(\"%s %s\" % (train, test))"
   ]
  },
  {
   "cell_type": "markdown",
   "metadata": {},
   "source": [
    "### Генератор разбиений для LOO кросс-валидации"
   ]
  },
  {
   "cell_type": "code",
   "execution_count": 5,
   "metadata": {},
   "outputs": [
    {
     "name": "stdout",
     "output_type": "stream",
     "text": [
      "[1 2 3] [0]\n",
      "[0 2 3] [1]\n",
      "[0 1 3] [2]\n",
      "[0 1 2] [3]\n"
     ]
    }
   ],
   "source": [
    "from sklearn.model_selection import LeaveOneOut\n",
    "\n",
    "loo = LeaveOneOut()\n",
    "for train, test in loo.split(X1):\n",
    "    print(\"%s %s\" % (train, test))"
   ]
  },
  {
   "cell_type": "markdown",
   "metadata": {},
   "source": [
    "### Генератор разбиений для многократной k-fold кросс-валидации"
   ]
  },
  {
   "cell_type": "code",
   "execution_count": 6,
   "metadata": {},
   "outputs": [
    {
     "name": "stdout",
     "output_type": "stream",
     "text": [
      "[1 2] [0 3]\n",
      "[0 3] [1 2]\n",
      "[0 1] [2 3]\n",
      "[2 3] [0 1]\n"
     ]
    }
   ],
   "source": [
    "from sklearn.model_selection import RepeatedKFold\n",
    "\n",
    "rkf = RepeatedKFold(n_splits=2, n_repeats=2, random_state=123456)\n",
    "for train, test in rkf.split(X1):\n",
    "    print(\"%s %s\" % (train, test))"
   ]
  },
  {
   "cell_type": "markdown",
   "metadata": {},
   "source": [
    "## Поиск гиперпараметров\n",
    "\n",
    "### Поиск по сетке"
   ]
  },
  {
   "cell_type": "code",
   "execution_count": 7,
   "metadata": {},
   "outputs": [
    {
     "name": "stdout",
     "output_type": "stream",
     "text": [
      "{'C': 10, 'gamma': 0.1, 'kernel': 'rbf'}\n",
      "0.9888888888888889\n",
      "0.9166666666666666\n"
     ]
    }
   ],
   "source": [
    "from sklearn.model_selection import GridSearchCV\n",
    "\n",
    "param_grid = {'C': [0.1, 1, 10, 100, 1000], 'gamma': [1.0, 0.1, 0.01, 0.001, 0.0001], 'kernel': ['rbf']}\n",
    "svc = svm.SVC()\n",
    "clf = GridSearchCV(svc, param_grid, cv=5, refit=True) # Refit an estimator using the best found parameters on the whole dataset\n",
    "clf.fit(X_train, y_train) # Run CV grid search\n",
    "print(clf.best_params_)\n",
    "print(clf.best_score_)\n",
    "score = clf.score(X_test, y_test) # Test on the best parameters\n",
    "print(score)"
   ]
  },
  {
   "cell_type": "markdown",
   "metadata": {},
   "source": [
    "### Случайный поиск по распределению"
   ]
  },
  {
   "cell_type": "code",
   "execution_count": 8,
   "metadata": {},
   "outputs": [
    {
     "name": "stdout",
     "output_type": "stream",
     "text": [
      "{'C': 898.8593337566032, 'gamma': 0.0015258394016932596, 'kernel': 'rbf'}\n",
      "0.9888888888888889\n",
      "0.9\n"
     ]
    }
   ],
   "source": [
    "from sklearn.model_selection import RandomizedSearchCV\n",
    "from scipy.stats import loguniform\n",
    "\n",
    "param_dist = {'C': loguniform(0.1, 1000), 'gamma': loguniform(0.0001, 1.0), 'kernel': ['rbf']}\n",
    "svc = svm.SVC()\n",
    "clf = RandomizedSearchCV(svc, param_dist, n_iter=25, cv=5, refit=True) # Refit an estimator using the best found parameters on the whole dataset\n",
    "clf.fit(X_train, y_train) # Run CV grid search\n",
    "print(clf.best_params_)\n",
    "print(clf.best_score_)\n",
    "score = clf.score(X_test, y_test) # Test on the best parameters\n",
    "print(score)"
   ]
  },
  {
   "cell_type": "markdown",
   "metadata": {},
   "source": [
    "### Сравнение подходов\n",
    "\n",
    "Загрузим более представительную базу данных"
   ]
  },
  {
   "cell_type": "code",
   "execution_count": 9,
   "metadata": {},
   "outputs": [
    {
     "name": "stdout",
     "output_type": "stream",
     "text": [
      "(1797, 64) (1797,)\n",
      "(1257, 64) (1257,) (540, 64) (540,)\n"
     ]
    }
   ],
   "source": [
    "import numpy as np\n",
    "from sklearn.model_selection import train_test_split, GridSearchCV, RandomizedSearchCV\n",
    "from sklearn import datasets\n",
    "from sklearn import svm\n",
    "from scipy.stats import loguniform\n",
    "\n",
    "X, y = datasets.load_digits(return_X_y=True) # X.shape = (150, 4), y.shape = (150,)\n",
    "X_train, X_test, y_train, y_test = train_test_split(X, y, test_size=0.3, random_state=123456) \n",
    "print(X.shape, y.shape)\n",
    "print(X_train.shape, y_train.shape, X_test.shape, y_test.shape)"
   ]
  },
  {
   "cell_type": "markdown",
   "metadata": {},
   "source": [
    "Запускаем поиск по сетке размерности 9*9 = 81"
   ]
  },
  {
   "cell_type": "code",
   "execution_count": 10,
   "metadata": {},
   "outputs": [
    {
     "name": "stdout",
     "output_type": "stream",
     "text": [
      "GridSearchCV params: {'C': 1, 'gamma': 0.001, 'kernel': 'rbf'}\n",
      "GridSearchCV test score: 0.9833333333333333\n"
     ]
    }
   ],
   "source": [
    "param_grid = {'C': [0.1, 0.3, 1, 3, 10, 30, 100, 300, 1000], \n",
    "              'gamma': [1.0, 0.3, 0.1, 0.03, 0.01, 0.003, 0.001, 0.0003, 0.0001], 'kernel': ['rbf']}\n",
    "svc = svm.SVC()\n",
    "clf = GridSearchCV(svc, param_grid, cv=5, refit=True) # Refit an estimator using the best found parameters on the whole dataset\n",
    "clf.fit(X_train, y_train) # Run CV grid search\n",
    "print('GridSearchCV params:', clf.best_params_)\n",
    "score = clf.score(X_test, y_test) # Test on the best parameters\n",
    "print('GridSearchCV test score:', score)"
   ]
  },
  {
   "cell_type": "markdown",
   "metadata": {},
   "source": [
    "Запускаем случайный поиск по лог-равномерному распределению (так же, как в сетке), всего 81 раз"
   ]
  },
  {
   "cell_type": "code",
   "execution_count": 11,
   "metadata": {},
   "outputs": [
    {
     "name": "stdout",
     "output_type": "stream",
     "text": [
      "RandomizedSearchCV params: {'C': 24.193643927107065, 'gamma': 0.0006301690253315956, 'kernel': 'rbf'}\n",
      "RandomizedSearchCV test score: 0.9888888888888889\n"
     ]
    }
   ],
   "source": [
    "param_dist = {'C': loguniform(0.1, 1000), 'gamma': loguniform(0.0001, 1.0), 'kernel': ['rbf']}\n",
    "svc = svm.SVC()\n",
    "clf = RandomizedSearchCV(svc, param_dist, n_iter=9*9, cv=5, random_state=123456, refit=True) # Refit an estimator using the best found parameters on the whole dataset\n",
    "clf.fit(X_train, y_train) # Run CV grid search\n",
    "print('RandomizedSearchCV params:', clf.best_params_)\n",
    "score = clf.score(X_test, y_test) # Test on the best parameters\n",
    "print('RandomizedSearchCV test score:', score)"
   ]
  },
  {
   "cell_type": "markdown",
   "metadata": {},
   "source": [
    "Как видим, получилось даже лучше.\n",
    "\n",
    "Теперь сэкономим время, и запустим всего 10 раз"
   ]
  },
  {
   "cell_type": "code",
   "execution_count": 12,
   "metadata": {},
   "outputs": [
    {
     "name": "stdout",
     "output_type": "stream",
     "text": [
      "RandomizedSearchCV params: {'C': 23.940562924593113, 'gamma': 0.00035498845268968515, 'kernel': 'rbf'}\n",
      "RandomizedSearchCV test score: 0.9888888888888889\n"
     ]
    }
   ],
   "source": [
    "param_dist = {'C': loguniform(0.1, 1000), 'gamma': loguniform(0.0001, 1.0), 'kernel': ['rbf']}\n",
    "svc = svm.SVC()\n",
    "clf = RandomizedSearchCV(svc, param_dist, n_iter=10, cv=5, random_state=123456, refit=True) # Refit an estimator using the best found parameters on the whole dataset\n",
    "clf.fit(X_train, y_train) # Run CV grid search\n",
    "print('RandomizedSearchCV params:', clf.best_params_)\n",
    "score = clf.score(X_test, y_test) # Test on the best parameters\n",
    "print('RandomizedSearchCV test score:', score)"
   ]
  },
  {
   "cell_type": "markdown",
   "metadata": {},
   "source": [
    "**Вывод**: порой не стоит скрупулезно проходить по полной сетке, можно сэкономить время и просэмплировать по распределению, потратив в разы меньше времени!"
   ]
  },
  {
   "cell_type": "markdown",
   "metadata": {},
   "source": [
    "***"
   ]
  },
  {
   "cell_type": "markdown",
   "metadata": {},
   "source": [
    "# Дилемма смещения-разброса\n",
    "\n",
    "## Приближение полиномом и такие разные ошибки на тесте и обучении"
   ]
  },
  {
   "cell_type": "code",
   "execution_count": 61,
   "metadata": {},
   "outputs": [],
   "source": [
    "import numpy as np\n",
    "import matplotlib.pyplot as plt\n",
    "%matplotlib inline \n",
    "\n",
    "np.random.seed(seed=123456)"
   ]
  },
  {
   "cell_type": "markdown",
   "metadata": {},
   "source": [
    "Будем использовать 7 точек и приближать соотв. вплоть до полинома 6 степени (многочлен Лежандра). Целевая зависимость: y = sin(x)"
   ]
  },
  {
   "cell_type": "code",
   "execution_count": 62,
   "metadata": {},
   "outputs": [],
   "source": [
    "N = 7\n",
    "x0 = 0\n",
    "x1 = np.pi / 2 + 1 / 2\n",
    "x = x0 + (x1 - x0)*np.random.random_sample(N) # np.linspace(x0, x1, N)\n",
    "eps = np.random.random_sample(N)\n",
    "y_train = np.sin(x) + 0.2 * eps - 0.1"
   ]
  },
  {
   "cell_type": "markdown",
   "metadata": {},
   "source": [
    "Строим приближение"
   ]
  },
  {
   "cell_type": "code",
   "execution_count": 63,
   "metadata": {},
   "outputs": [],
   "source": [
    "poly_coef = []\n",
    "poly = []\n",
    "\n",
    "for i in range(N):\n",
    "    poly_coef.append(np.polyfit(x, y_train, i)) # Find coefficients by MSE\n",
    "    poly.append(np.poly1d(poly_coef[i])) # Construct polynom from coefficients"
   ]
  },
  {
   "cell_type": "markdown",
   "metadata": {},
   "source": [
    "Выводим результат. Видим, что начиная с 3-ей степени все уже не очень хорошо - лучше проходим по точкам, но хуже в остальных местах."
   ]
  },
  {
   "cell_type": "code",
   "execution_count": 64,
   "metadata": {},
   "outputs": [
    {
     "data": {
      "image/png": "[encoded data removed]",
      "text/plain": [
       "<Figure size 432x288 with 1 Axes>"
      ]
     },
     "metadata": {
      "needs_background": "light"
     },
     "output_type": "display_data"
    }
   ],
   "source": [
    "x_gt = np.linspace(x0, x1, 100)\n",
    "y_gt = np.sin(x_gt)\n",
    "plt.plot(x, y_train, 'ko', label='Train')\n",
    "plt.plot(x_gt, y_gt, 'r', label='sin')\n",
    "cols = ['k--', 'm', 'b', 'c', 'y', 'g', 'k', 'b--']\n",
    "\n",
    "for i in range(N):\n",
    "    plt.plot(x_gt, poly[i](x_gt), cols[i], label='deg={}'.format(i))\n",
    "\n",
    "plt.legend()\n",
    "plt.ylim(0, 1.5)\n",
    "plt.xlabel('x')\n",
    "plt.ylabel('y')\n",
    "plt.draw()"
   ]
  },
  {
   "cell_type": "markdown",
   "metadata": {},
   "source": [
    "Считаем ошибку на обучении (жирные точки) и тесте (другие точки, но с теми же абсциссами)"
   ]
  },
  {
   "cell_type": "code",
   "execution_count": 65,
   "metadata": {},
   "outputs": [],
   "source": [
    "eps = np.random.random_sample(N)\n",
    "y_test = np.sin(x) + 0.1 * eps - 0.05\n",
    "\n",
    "diff_train = []\n",
    "diff_test = []\n",
    "\n",
    "for i in range(N):\n",
    "    diff_train.append(np.mean(np.abs(y_train - poly[i](x))))\n",
    "    diff_test.append(np.mean(np.abs(y_test - poly[i](x))))"
   ]
  },
  {
   "cell_type": "markdown",
   "metadata": {},
   "source": [
    "Выводим результат. Как видим, при больших степенях мы все лучше приближаем train, но все хуже test"
   ]
  },
  {
   "cell_type": "code",
   "execution_count": 66,
   "metadata": {},
   "outputs": [
    {
     "data": {
      "image/png": "[encoded data removed]",
      "text/plain": [
       "<Figure size 432x288 with 1 Axes>"
      ]
     },
     "metadata": {
      "needs_background": "light"
     },
     "output_type": "display_data"
    }
   ],
   "source": [
    "degree = np.linspace(0, N-1, N).astype(np.int32)\n",
    "\n",
    "plt.plot(degree, diff_train, 'b', label='Train error')\n",
    "plt.plot(degree, diff_test, 'r', label='Test error')\n",
    "plt.legend()\n",
    "plt.xlabel('Polynom degree')\n",
    "plt.ylabel('Error')\n",
    "plt.draw()"
   ]
  },
  {
   "cell_type": "markdown",
   "metadata": {},
   "source": [
    "## Экспериментальная проверка дилеммы смещения-разброса"
   ]
  },
  {
   "cell_type": "markdown",
   "metadata": {},
   "source": [
    "Проверим выведенную на лекции формулу. \n",
    "\n",
    "Для начала готовим данные."
   ]
  },
  {
   "cell_type": "code",
   "execution_count": 232,
   "metadata": {},
   "outputs": [],
   "source": [
    "np.random.seed(seed=1234567)\n",
    "N = 6 # Number of points\n",
    "N_avg = 1000 # Number of different initializations\n",
    "\n",
    "x0 = 0\n",
    "x1 = np.pi / 2 + 1 / 2\n",
    "\n",
    "xr = x0 + (x1 - x0)*np.random.random_sample(N)\n",
    "\n",
    "X_train = np.empty((N, N_avg))\n",
    "Y_train = np.empty((N, N_avg))\n",
    "\n",
    "X_test = np.empty(N)\n",
    "Y_test = np.empty(N)\n",
    "\n",
    "def F(x):\n",
    "    return np.sin(x)\n",
    "\n",
    "# train\n",
    "for i in range(N_avg):\n",
    "    X_train[:, i] = xr\n",
    "    Y_train[:, i] = F(X_train[:, i]) + 0.2 * np.random.random_sample(N) - 0.1\n",
    "\n",
    "# test\n",
    "X_test = xr\n",
    "Y_test = F(X_test) + 0.2 * np.random.random_sample(N) - 0.1"
   ]
  },
  {
   "cell_type": "markdown",
   "metadata": {},
   "source": [
    "Для каждого эксперимента (для разных степеней и для разных уровней шума) вычисляем приближение"
   ]
  },
  {
   "cell_type": "code",
   "execution_count": 233,
   "metadata": {},
   "outputs": [],
   "source": [
    "poly = np.empty((N, N_avg), dtype=object)\n",
    "\n",
    "for deg in range(N):\n",
    "    for i in range(N_avg):\n",
    "        poly_coef = np.polyfit(X_train[:, i], Y_train[:, i], deg) # Find coefficients by MSE\n",
    "        poly[deg, i] = np.poly1d(poly_coef) # Construct polynom from coefficients"
   ]
  },
  {
   "cell_type": "markdown",
   "metadata": {},
   "source": [
    "Рассчитываем значение обученных полиномов"
   ]
  },
  {
   "cell_type": "code",
   "execution_count": 234,
   "metadata": {},
   "outputs": [],
   "source": [
    "Y_predict = np.empty((N, N_avg, N)) # First dimension for points, last dimension - for deg!\n",
    "\n",
    "for deg in range(N):\n",
    "    for i in range(N_avg):\n",
    "        Y_predict[:, i, deg] = poly[deg, i](X_test)"
   ]
  },
  {
   "cell_type": "markdown",
   "metadata": {},
   "source": [
    "Самая важная часть: подсчитываем все метрики (уровень шума, смещение и разброс, а также общий уровень ошибки)"
   ]
  },
  {
   "cell_type": "code",
   "execution_count": 235,
   "metadata": {},
   "outputs": [],
   "source": [
    "var_noise = np.empty(N)\n",
    "var_predict = np.empty(N)\n",
    "bias2 = np.empty(N)\n",
    "error = np.empty(N)\n",
    "\n",
    "for deg in range(N):\n",
    "    var_noise[deg] = np.mean(np.var(Y_train - F(X_train), axis=1))\n",
    "    var_predict[deg] = np.mean(np.var(Y_predict[:, :, deg], axis=1))\n",
    "    bias2[deg] = np.mean((F(X_test) - np.mean(Y_predict[:, :, deg], axis=1)) ** 2)\n",
    "    error[deg] = np.mean((Y_test - np.mean(Y_predict[:, :, deg], axis=1))**2)"
   ]
  },
  {
   "cell_type": "markdown",
   "metadata": {},
   "source": [
    "Строим кривые и убеждаемся, что эмпирически получаем почти полное совпадение с аналитической формулой"
   ]
  },
  {
   "cell_type": "code",
   "execution_count": 236,
   "metadata": {},
   "outputs": [
    {
     "data": {
      "image/png": "[encoded data removed]",
      "text/plain": [
       "<Figure size 432x288 with 1 Axes>"
      ]
     },
     "metadata": {
      "needs_background": "light"
     },
     "output_type": "display_data"
    }
   ],
   "source": [
    "degree = np.linspace(0, N-1, N).astype(np.int32)\n",
    "plt.plot(degree, error, 'r', label='MSE of approximation')\n",
    "plt.plot(degree, var_noise, 'g', label='$\\sigma_{noise}^2$')\n",
    "plt.plot(degree, var_predict, 'b', label='$\\sigma_{model}^2$')\n",
    "plt.plot(degree, bias2, 'y', label='$bias^2$')\n",
    "plt.plot(degree, var_noise + var_predict + bias2, 'kx', label='$\\sigma_{noise}^2+\\sigma_{model}^2+bias^2$')\n",
    "plt.legend()\n",
    "plt.xlabel('Polynom degree')\n",
    "plt.ylabel('Error')\n",
    "plt.draw()"
   ]
  }
 ],
 "metadata": {
  "kernelspec": {
   "display_name": "Python 3",
   "language": "python",
   "name": "python3"
  },
  "language_info": {
   "codemirror_mode": {
    "name": "ipython",
    "version": 3
   },
   "file_extension": ".py",
   "mimetype": "text/x-python",
   "name": "python",
   "nbconvert_exporter": "python",
   "pygments_lexer": "ipython3",
   "version": "3.8.1"
  }
 },
 "nbformat": 4,
 "nbformat_minor": 1
}
